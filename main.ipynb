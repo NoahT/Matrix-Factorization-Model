{
 "metadata": {
  "language_info": {
   "codemirror_mode": {
    "name": "ipython",
    "version": 3
   },
   "file_extension": ".py",
   "mimetype": "text/x-python",
   "name": "python",
   "nbconvert_exporter": "python",
   "pygments_lexer": "ipython3",
   "version": "3.7.1-final"
  },
  "orig_nbformat": 2,
  "kernelspec": {
   "name": "python3",
   "display_name": "Python 3",
   "language": "python"
  }
 },
 "nbformat": 4,
 "nbformat_minor": 2,
 "cells": [
  {
   "cell_type": "code",
   "execution_count": 1,
   "metadata": {},
   "outputs": [],
   "source": [
    "import pandas as pd\n",
    "import numpy as np"
   ]
  },
  {
   "cell_type": "code",
   "execution_count": 20,
   "metadata": {},
   "outputs": [],
   "source": [
    "movie_database = pd.read_csv('Data/movies_metadata.csv')\n",
    "users_ratings = pd.read_csv('Data/ratings.csv')\n",
    "links_small = pd.read_csv('../input/links_small.csv')\n",
    "links_small = links_small[links_small['tmdbId'].notnull()]['tmdbId'].astype('int')\n",
    "md = md.drop([19730, 29503, 35587])\n",
    "\n",
    "\n",
    "smd = md[md['id'].isin(links_small)]\n",
    "smd.shape\n",
    "\n",
    "\n",
    "\n",
    "tf = TfidfVectorizer(analyzer='word',ngram_range=(1, 2),min_df=0, stop_words='english')\n",
    "tfidf_matrix = tf.fit_transform(smd['description'])\n",
    "\n",
    "\n",
    "\n",
    "\n",
    "md['id'] = md['id'].astype('int')\n",
    "\n"
   ]
  },
  {
   "cell_type": "code",
   "execution_count": 23,
   "metadata": {},
   "outputs": [
    {
     "output_type": "stream",
     "name": "stdout",
     "text": [
      "    userId  movieId  rating   timestamp\n0        1      110     1.0  1425941529\n1        1      147     4.5  1425942435\n2        1      858     5.0  1425941523\n3        1     1221     5.0  1425941546\n4        1     1246     5.0  1425941556\n5        1     1968     4.0  1425942148\n6        1     2762     4.5  1425941300\n7        1     2918     5.0  1425941593\n8        1     2959     4.0  1425941601\n9        1     4226     4.0  1425942228\n10       1     4878     5.0  1425941434\n11       1     5577     5.0  1425941397\n12       1    33794     4.0  1425942005\n13       1    54503     3.5  1425941313\n14       1    58559     4.0  1425942007\n15       1    59315     5.0  1425941502\n16       1    68358     5.0  1425941464\n17       1    69844     5.0  1425942139\n18       1    73017     5.0  1425942699\n19       1    81834     5.0  1425942133\n20       1    91500     2.5  1425942647\n21       1    91542     5.0  1425942618\n22       1    92439     5.0  1425941424\n23       1    96821     5.0  1425941382\n24       1    98809     0.5  1425942640\n25       1    99114     4.0  1425941667\n26       1   112552     5.0  1425941336\n"
     ]
    }
   ],
   "source": [
    "def build_feedback_matrix(ratings,num_users,num_movies):\n",
    "    "
   ]
  },
  {
   "cell_type": "code",
   "execution_count": 5,
   "metadata": {},
   "outputs": [],
   "source": []
  },
  {
   "cell_type": "code",
   "execution_count": 19,
   "metadata": {},
   "outputs": [
    {
     "output_type": "stream",
     "name": "stdout",
     "text": [
      "   adult                              belongs_to_collection    budget  \\\n0  False  {'id': 10194, 'name': 'Toy Story Collection', ...  30000000   \n\n                                              genres  \\\n0  [{'id': 16, 'name': 'Animation'}, {'id': 35, '...   \n\n                               homepage   id    imdb_id original_language  \\\n0  http://toystory.disney.com/toy-story  862  tt0114709                en   \n\n  original_title                                           overview  ...  \\\n0      Toy Story  Led by Woody, Andy's toys live happily in his ...  ...   \n\n  release_date      revenue runtime                          spoken_languages  \\\n0   1995-10-30  373554033.0    81.0  [{'iso_639_1': 'en', 'name': 'English'}]   \n\n     status  tagline      title  video vote_average vote_count  \n0  Released      NaN  Toy Story  False          7.7     5415.0  \n\n[1 rows x 24 columns]\n"
     ]
    }
   ],
   "source": []
  },
  {
   "cell_type": "code",
   "execution_count": null,
   "metadata": {},
   "outputs": [],
   "source": []
  }
 ]
}